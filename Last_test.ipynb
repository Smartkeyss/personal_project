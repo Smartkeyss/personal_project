{
 "cells": [
  {
   "cell_type": "code",
   "execution_count": 11,
   "id": "bca0d106",
   "metadata": {},
   "outputs": [],
   "source": [
    "import pyspark\n",
    "from pyspark.sql import SparkSession\n",
    "from pyspark.sql.functions import when"
   ]
  },
  {
   "cell_type": "code",
   "execution_count": 2,
   "id": "622bbff4",
   "metadata": {},
   "outputs": [],
   "source": [
    "spark = SparkSession.builder.master(\"local[*]\").appName(\"Test\").getOrCreate()"
   ]
  },
  {
   "cell_type": "code",
   "execution_count": 4,
   "id": "48aac54b",
   "metadata": {},
   "outputs": [],
   "source": [
    "df = spark.read.csv(\"adult1.csv\", header = True)"
   ]
  },
  {
   "cell_type": "code",
   "execution_count": 5,
   "id": "b6201802",
   "metadata": {},
   "outputs": [
    {
     "name": "stdout",
     "output_type": "stream",
     "text": [
      "+---+-----------------+------+----------+-------------+-------------------+------------------+--------------+------+-------+------------+------------+--------------+--------------+------------+\n",
      "|age|        workclass|fnlwgt| education|education_num|     marital_status|        occupation|  relationship|  race|    sex|capital_gain|capital_loss|hours_per_week|native_country|income_class|\n",
      "+---+-----------------+------+----------+-------------+-------------------+------------------+--------------+------+-------+------------+------------+--------------+--------------+------------+\n",
      "| 39|        State-gov| 77516| Bachelors|           13|      Never-married|      Adm-clerical| Not-in-family| White|   Male|        2174|           0|            40| United-States|       <=50K|\n",
      "| 50| Self-emp-not-inc| 83311| Bachelors|           13| Married-civ-spouse|   Exec-managerial|       Husband| White|   Male|           0|           0|            13| United-States|       <=50K|\n",
      "| 38|          Private|215646|   HS-grad|            9|           Divorced| Handlers-cleaners| Not-in-family| White|   Male|           0|           0|            40| United-States|       <=50K|\n",
      "| 53|          Private|234721|      11th|            7| Married-civ-spouse| Handlers-cleaners|       Husband| Black|   Male|           0|           0|            40| United-States|       <=50K|\n",
      "| 28|          Private|338409| Bachelors|           13| Married-civ-spouse|    Prof-specialty|          Wife| Black| Female|           0|           0|            40|          Cuba|       <=50K|\n",
      "+---+-----------------+------+----------+-------------+-------------------+------------------+--------------+------+-------+------------+------------+--------------+--------------+------------+\n",
      "only showing top 5 rows\n",
      "\n"
     ]
    }
   ],
   "source": [
    "df.show(5)"
   ]
  },
  {
   "cell_type": "code",
   "execution_count": 6,
   "id": "8a1b1362",
   "metadata": {},
   "outputs": [
    {
     "data": {
      "text/plain": [
       "['age',\n",
       " 'workclass',\n",
       " 'fnlwgt',\n",
       " 'education',\n",
       " 'education_num',\n",
       " 'marital_status',\n",
       " 'occupation',\n",
       " 'relationship',\n",
       " 'race',\n",
       " 'sex',\n",
       " 'capital_gain',\n",
       " 'capital_loss',\n",
       " 'hours_per_week',\n",
       " 'native_country',\n",
       " 'income_class']"
      ]
     },
     "execution_count": 6,
     "metadata": {},
     "output_type": "execute_result"
    }
   ],
   "source": [
    "df.columns"
   ]
  },
  {
   "cell_type": "code",
   "execution_count": 8,
   "id": "268d4d8c",
   "metadata": {},
   "outputs": [
    {
     "name": "stdout",
     "output_type": "stream",
     "text": [
      "+------------+\n",
      "|capital_gain|\n",
      "+------------+\n",
      "|        2174|\n",
      "|           0|\n",
      "|           0|\n",
      "|           0|\n",
      "|           0|\n",
      "|           0|\n",
      "|           0|\n",
      "|           0|\n",
      "|       14084|\n",
      "|        5178|\n",
      "|           0|\n",
      "|           0|\n",
      "|           0|\n",
      "|           0|\n",
      "|           0|\n",
      "|           0|\n",
      "|           0|\n",
      "|           0|\n",
      "|           0|\n",
      "|           0|\n",
      "+------------+\n",
      "only showing top 20 rows\n",
      "\n"
     ]
    }
   ],
   "source": [
    "df.select(\"capital_gain\").show()"
   ]
  },
  {
   "cell_type": "code",
   "execution_count": 16,
   "id": "611efea2",
   "metadata": {},
   "outputs": [],
   "source": [
    "#1-create a new column, called `capital-status`, that has the value `gain` if the value of the column `capital-gain` \n",
    "#is greater than 0 and `loss` otherwise\n",
    "df = df.withColumn(\"Capital_status\", when(df[\"capital_gain\"] > 0 , \"gain\").otherwise(\"loss\"))"
   ]
  },
  {
   "cell_type": "code",
   "execution_count": 18,
   "id": "c2079ada",
   "metadata": {},
   "outputs": [
    {
     "name": "stdout",
     "output_type": "stream",
     "text": [
      "+---+------------------+------------+--------------+\n",
      "|age|        occupation|capital_gain|Capital_status|\n",
      "+---+------------------+------------+--------------+\n",
      "| 39|      Adm-clerical|        2174|          gain|\n",
      "| 50|   Exec-managerial|           0|          loss|\n",
      "| 38| Handlers-cleaners|           0|          loss|\n",
      "| 53| Handlers-cleaners|           0|          loss|\n",
      "| 28|    Prof-specialty|           0|          loss|\n",
      "| 37|   Exec-managerial|           0|          loss|\n",
      "| 49|     Other-service|           0|          loss|\n",
      "| 52|   Exec-managerial|           0|          loss|\n",
      "| 31|    Prof-specialty|       14084|          gain|\n",
      "| 42|   Exec-managerial|        5178|          gain|\n",
      "| 37|   Exec-managerial|           0|          loss|\n",
      "| 30|    Prof-specialty|           0|          loss|\n",
      "| 23|      Adm-clerical|           0|          loss|\n",
      "| 32|             Sales|           0|          loss|\n",
      "| 40|      Craft-repair|           0|          loss|\n",
      "| 34|  Transport-moving|           0|          loss|\n",
      "| 25|   Farming-fishing|           0|          loss|\n",
      "| 32| Machine-op-inspct|           0|          loss|\n",
      "| 38|             Sales|           0|          loss|\n",
      "| 43|   Exec-managerial|           0|          loss|\n",
      "+---+------------------+------------+--------------+\n",
      "only showing top 20 rows\n",
      "\n"
     ]
    }
   ],
   "source": [
    "df.select(\"age\", \"occupation\", \"capital_gain\", \"Capital_status\").show()"
   ]
  },
  {
   "cell_type": "code",
   "execution_count": null,
   "id": "d59a58a0",
   "metadata": {},
   "outputs": [],
   "source": []
  }
 ],
 "metadata": {
  "kernelspec": {
   "display_name": "Python 3 (ipykernel)",
   "language": "python",
   "name": "python3"
  },
  "language_info": {
   "codemirror_mode": {
    "name": "ipython",
    "version": 3
   },
   "file_extension": ".py",
   "mimetype": "text/x-python",
   "name": "python",
   "nbconvert_exporter": "python",
   "pygments_lexer": "ipython3",
   "version": "3.9.12"
  }
 },
 "nbformat": 4,
 "nbformat_minor": 5
}
