{
 "cells": [
  {
   "cell_type": "code",
   "execution_count": 1,
   "id": "9d867484",
   "metadata": {},
   "outputs": [],
   "source": [
    "import pyspark\n",
    "import pyspark.sql.functions as func\n",
    "from pyspark.sql import SparkSession\n",
    "from pyspark.sql.functions import sum"
   ]
  },
  {
   "cell_type": "code",
   "execution_count": 2,
   "id": "18cf8dbd",
   "metadata": {},
   "outputs": [],
   "source": [
    "spark = SparkSession.builder.master(\"local[*]\").appName(\"Datamanipulation\").getOrCreate()"
   ]
  },
  {
   "cell_type": "code",
   "execution_count": 3,
   "id": "9e64796c",
   "metadata": {},
   "outputs": [
    {
     "data": {
      "text/html": [
       "\n",
       "            <div>\n",
       "                <p><b>SparkSession - in-memory</b></p>\n",
       "                \n",
       "        <div>\n",
       "            <p><b>SparkContext</b></p>\n",
       "\n",
       "            <p><a href=\"http://kubernetes.docker.internal:4040\">Spark UI</a></p>\n",
       "\n",
       "            <dl>\n",
       "              <dt>Version</dt>\n",
       "                <dd><code>v3.3.2</code></dd>\n",
       "              <dt>Master</dt>\n",
       "                <dd><code>local[*]</code></dd>\n",
       "              <dt>AppName</dt>\n",
       "                <dd><code>Datamanipulation</code></dd>\n",
       "            </dl>\n",
       "        </div>\n",
       "        \n",
       "            </div>\n",
       "        "
      ],
      "text/plain": [
       "<pyspark.sql.session.SparkSession at 0x25793f64190>"
      ]
     },
     "execution_count": 3,
     "metadata": {},
     "output_type": "execute_result"
    }
   ],
   "source": [
    "spark"
   ]
  },
  {
   "cell_type": "code",
   "execution_count": 4,
   "id": "1cb29770",
   "metadata": {},
   "outputs": [],
   "source": [
    "# read our data - lives in a csv file\n",
    "\n",
    "df = spark.read.option(\"header\",\"true\").csv(\"Sample - EU Superstore.csv\")"
   ]
  },
  {
   "cell_type": "code",
   "execution_count": 5,
   "id": "b1bbd7dd",
   "metadata": {},
   "outputs": [
    {
     "name": "stdout",
     "output_type": "stream",
     "text": [
      "+------+---------------+----------+----------+--------------+-----------+--------------+---------+-----+-------+--------------+------+---------------+---------------+------------+--------------------+------+--------+--------+------+\n",
      "|Row ID|       Order ID|Order Date| Ship Date|     Ship Mode|Customer ID| Customer Name|  Segment| City|  State|       Country|Region|     Product ID|       Category|Sub-Category|        Product Name| Sales|Quantity|Discount|Profit|\n",
      "+------+---------------+----------+----------+--------------+-----------+--------------+---------+-----+-------+--------------+------+---------------+---------------+------------+--------------------+------+--------+--------+------+\n",
      "|     1|ES-2017-1311038|07/02/2017|11/02/2017|Standard Class|   AS-10045|Aaron Smayling|Corporate|Leeds|England|United Kingdom| North|OFF-ST-10000988|Office Supplies|     Storage|Fellowes Folders,...|  79.2|       3|       0|  39.6|\n",
      "|     2|ES-2017-1311038|07/02/2017|11/02/2017|Standard Class|   AS-10045|Aaron Smayling|Corporate|Leeds|England|United Kingdom| North|TEC-AC-10004144|     Technology| Accessories|SanDisk Numeric K...|388.92|       7|       0|     0|\n",
      "|     3|ES-2017-1311038|07/02/2017|11/02/2017|Standard Class|   AS-10045|Aaron Smayling|Corporate|Leeds|England|United Kingdom| North|OFF-LA-10001915|Office Supplies|      Labels|Avery Legal Exhib...| 35.19|       3|       0| 16.11|\n",
      "|     4|ES-2017-1311038|07/02/2017|11/02/2017|Standard Class|   AS-10045|Aaron Smayling|Corporate|Leeds|England|United Kingdom| North|OFF-ST-10004550|Office Supplies|     Storage|Fellowes Folders,...| 50.94|       2|       0|  13.2|\n",
      "|     5|ES-2017-1311038|07/02/2017|11/02/2017|Standard Class|   AS-10045|Aaron Smayling|Corporate|Leeds|England|United Kingdom| North|TEC-AC-10004068|     Technology| Accessories|Memorex Memory Ca...|307.44|       3|       0| 73.71|\n",
      "+------+---------------+----------+----------+--------------+-----------+--------------+---------+-----+-------+--------------+------+---------------+---------------+------------+--------------------+------+--------+--------+------+\n",
      "only showing top 5 rows\n",
      "\n"
     ]
    }
   ],
   "source": [
    "df.show(5)"
   ]
  },
  {
   "cell_type": "code",
   "execution_count": 6,
   "id": "d4ed7458",
   "metadata": {},
   "outputs": [
    {
     "data": {
      "text/plain": [
       "['Row ID',\n",
       " 'Order ID',\n",
       " 'Order Date',\n",
       " 'Ship Date',\n",
       " 'Ship Mode',\n",
       " 'Customer ID',\n",
       " 'Customer Name',\n",
       " 'Segment',\n",
       " 'City',\n",
       " 'State',\n",
       " 'Country',\n",
       " 'Region',\n",
       " 'Product ID',\n",
       " 'Category',\n",
       " 'Sub-Category',\n",
       " 'Product Name',\n",
       " 'Sales',\n",
       " 'Quantity',\n",
       " 'Discount',\n",
       " 'Profit']"
      ]
     },
     "execution_count": 6,
     "metadata": {},
     "output_type": "execute_result"
    }
   ],
   "source": [
    "df.columns"
   ]
  },
  {
   "cell_type": "code",
   "execution_count": 7,
   "id": "6c800030",
   "metadata": {},
   "outputs": [
    {
     "data": {
      "text/plain": [
       "2827"
      ]
     },
     "execution_count": 7,
     "metadata": {},
     "output_type": "execute_result"
    }
   ],
   "source": [
    "# how many rows of the EU Superstore dataset have the country being France\n",
    "df.filter(df[\"Country\"] == \"France\").count()"
   ]
  },
  {
   "cell_type": "code",
   "execution_count": 8,
   "id": "648e5f8a",
   "metadata": {},
   "outputs": [
    {
     "data": {
      "text/plain": [
       "7569"
      ]
     },
     "execution_count": 8,
     "metadata": {},
     "output_type": "execute_result"
    }
   ],
   "source": [
    "# of those, how many are profitable\n",
    "df.filter(df[\"Profit\"] > 0).count()\n"
   ]
  },
  {
   "cell_type": "code",
   "execution_count": 9,
   "id": "ca611b93",
   "metadata": {},
   "outputs": [
    {
     "name": "stdout",
     "output_type": "stream",
     "text": [
      "14\n",
      "+--------+\n",
      "|Discount|\n",
      "+--------+\n",
      "|     0.3|\n",
      "|     0.7|\n",
      "|       0|\n",
      "|     0.2|\n",
      "|    0.15|\n",
      "|    0.35|\n",
      "|     0.8|\n",
      "|    0.45|\n",
      "|     0.5|\n",
      "|    0.65|\n",
      "|     0.6|\n",
      "|     0.1|\n",
      "|    0.85|\n",
      "|     0.4|\n",
      "+--------+\n",
      "\n"
     ]
    }
   ],
   "source": [
    "# how any different discount brackets exist? what are they?\n",
    "discount = df.select(df[\"Discount\"]).distinct()\n",
    "print(discount.count())\n",
    "discount.show()"
   ]
  },
  {
   "cell_type": "code",
   "execution_count": 10,
   "id": "b2e1f9f0",
   "metadata": {},
   "outputs": [
    {
     "name": "stdout",
     "output_type": "stream",
     "text": [
      "+--------+-------------------+\n",
      "|Discount|        sum(Profit)|\n",
      "+--------+-------------------+\n",
      "|       0| 383806.53000000026|\n",
      "|     0.1|  126884.0309999999|\n",
      "|    0.15| 24677.563499999975|\n",
      "|     0.2| 2189.5499999999984|\n",
      "|     0.3| -758.4209999999999|\n",
      "|    0.35|          -9122.649|\n",
      "|     0.4|-21346.427999999996|\n",
      "|    0.45|         -1103.1915|\n",
      "|     0.5|         -96632.115|\n",
      "|     0.6|-20517.456000000002|\n",
      "|    0.65| -6221.965499999999|\n",
      "|     0.7|          -5496.765|\n",
      "|     0.8|           -460.284|\n",
      "|    0.85|          -3068.658|\n",
      "+--------+-------------------+\n",
      "\n"
     ]
    }
   ],
   "source": [
    "# let's see the total profit by discount bracket, make sure they are ordered by \n",
    "discounts = df.groupBy(\"Discount\").agg({\"Profit\" : \"sum\"}).orderBy(\"Discount\")\n",
    "discounts.show()"
   ]
  },
  {
   "cell_type": "code",
   "execution_count": 11,
   "id": "d1d76050",
   "metadata": {},
   "outputs": [
    {
     "name": "stdout",
     "output_type": "stream",
     "text": [
      "+--------+-------------------+\n",
      "|Discount|        sum(Profit)|\n",
      "+--------+-------------------+\n",
      "|     0.3| -758.4209999999999|\n",
      "|    0.35|          -9122.649|\n",
      "|     0.4|-21346.427999999996|\n",
      "|    0.45|         -1103.1915|\n",
      "|     0.5|         -96632.115|\n",
      "|     0.6|-20517.456000000002|\n",
      "|    0.65| -6221.965499999999|\n",
      "|     0.7|          -5496.765|\n",
      "|     0.8|           -460.284|\n",
      "|    0.85|          -3068.658|\n",
      "+--------+-------------------+\n",
      "\n"
     ]
    }
   ],
   "source": [
    "# what is the value after which we should stop offering discount?\n",
    "\n",
    "discounts.filter(discounts[\"sum(Profit)\"] < 0).show()"
   ]
  },
  {
   "cell_type": "code",
   "execution_count": 12,
   "id": "aae94ee1",
   "metadata": {},
   "outputs": [
    {
     "name": "stdout",
     "output_type": "stream",
     "text": [
      "+-----------+------------------+\n",
      "|Customer ID|       sum(Profit)|\n",
      "+-----------+------------------+\n",
      "|   SP-20920| 4974.512999999999|\n",
      "|   PJ-18835|3986.0039999999995|\n",
      "|   PO-18865|          3778.197|\n",
      "|   EB-13840|           3459.66|\n",
      "|   MG-18145|3144.4439999999995|\n",
      "+-----------+------------------+\n",
      "only showing top 5 rows\n",
      "\n"
     ]
    }
   ],
   "source": [
    "# who are the top 5 most profitable customers\n",
    "\n",
    "df2 = df.groupBy(\"Customer ID\").agg({\"Profit\" : \"sum\"}).orderBy(\"sum(Profit)\", ascending = False)\n",
    "df2.show(5)"
   ]
  },
  {
   "cell_type": "code",
   "execution_count": 13,
   "id": "258bcf76",
   "metadata": {},
   "outputs": [
    {
     "data": {
      "text/plain": [
       "[Row(Customer ID='SP-20920', sum(Profit)=4974.512999999999),\n",
       " Row(Customer ID='PJ-18835', sum(Profit)=3986.0039999999995),\n",
       " Row(Customer ID='PO-18865', sum(Profit)=3778.197),\n",
       " Row(Customer ID='EB-13840', sum(Profit)=3459.66),\n",
       " Row(Customer ID='MG-18145', sum(Profit)=3144.4439999999995)]"
      ]
     },
     "execution_count": 13,
     "metadata": {},
     "output_type": "execute_result"
    }
   ],
   "source": [
    "# get all the rows belonging to those 5 customer names: hint, you may need the collect method - how many rows are they?\n",
    "top_5_customers = df2.collect()[:5]\n",
    "top_5_customers"
   ]
  },
  {
   "cell_type": "code",
   "execution_count": 14,
   "id": "f98bcafd",
   "metadata": {},
   "outputs": [],
   "source": [
    "top_5_customers_ID = [row[0] for row in top_5_customers]\n",
    "df2 = df.filter(df[\"Customer ID\"].isin(top_5_customers_ID))"
   ]
  },
  {
   "cell_type": "code",
   "execution_count": 15,
   "id": "9043d544",
   "metadata": {},
   "outputs": [
    {
     "data": {
      "text/plain": [
       "76"
      ]
     },
     "execution_count": 15,
     "metadata": {},
     "output_type": "execute_result"
    }
   ],
   "source": [
    "df2.count()"
   ]
  },
  {
   "cell_type": "code",
   "execution_count": 16,
   "id": "906da681",
   "metadata": {},
   "outputs": [
    {
     "name": "stdout",
     "output_type": "stream",
     "text": [
      "+-----------+-----+\n",
      "|Customer ID|count|\n",
      "+-----------+-----+\n",
      "|   MG-18145|    8|\n",
      "|   PJ-18835|    5|\n",
      "|   PO-18865|   16|\n",
      "|   SP-20920|   30|\n",
      "|   EB-13840|   17|\n",
      "+-----------+-----+\n",
      "\n"
     ]
    }
   ],
   "source": [
    "df2.groupBy(\"Customer ID\").count().show()"
   ]
  },
  {
   "cell_type": "code",
   "execution_count": 17,
   "id": "8d0fc034",
   "metadata": {},
   "outputs": [],
   "source": [
    "# create a new column which is the value of the sale were there not discount applied. Hint: orginal = sales/(1-d)"
   ]
  },
  {
   "cell_type": "code",
   "execution_count": 18,
   "id": "5f9d09ac",
   "metadata": {},
   "outputs": [],
   "source": [
    "df = df.withColumn(\"Original sales value\", df[\"Sales\"]/(1-df[\"discount\"]))\n"
   ]
  },
  {
   "cell_type": "code",
   "execution_count": 19,
   "id": "6e3fb79e",
   "metadata": {},
   "outputs": [
    {
     "name": "stdout",
     "output_type": "stream",
     "text": [
      "+--------+--------+--------------------+\n",
      "|   Sales|Discount|Original sales value|\n",
      "+--------+--------+--------------------+\n",
      "|    79.2|       0|                79.2|\n",
      "|  388.92|       0|              388.92|\n",
      "|   35.19|       0|               35.19|\n",
      "|   50.94|       0|               50.94|\n",
      "|  307.44|       0|              307.44|\n",
      "|   122.4|       0|               122.4|\n",
      "|  413.82|       0|              413.82|\n",
      "|  428.22|       0|              428.22|\n",
      "| 3979.29|       0|             3979.29|\n",
      "|   43.56|       0|               43.56|\n",
      "|   25.26|       0|               25.26|\n",
      "|2443.905|     0.1|  2715.4500000000003|\n",
      "|   12.21|       0|               12.21|\n",
      "|2167.296|    0.15|  2549.7599999999998|\n",
      "| 138.105|     0.1|              153.45|\n",
      "| 128.385|     0.1|  142.64999999999998|\n",
      "|  690.12|       0|              690.12|\n",
      "|    8.16|       0|                8.16|\n",
      "|  347.88|       0|              347.88|\n",
      "| 575.505|     0.1|   639.4499999999999|\n",
      "+--------+--------+--------------------+\n",
      "only showing top 20 rows\n",
      "\n"
     ]
    }
   ],
   "source": [
    "df.select(\"Sales\", \"Discount\", \"Original sales value\").show()"
   ]
  },
  {
   "cell_type": "code",
   "execution_count": 20,
   "id": "ba0f9aa9",
   "metadata": {},
   "outputs": [],
   "source": [
    "# calculate the difference between sales and discount value\n",
    "df = df.withColumn(\"Sale difference\", df[\"Original sales value\"] - df[\"Sales\"])"
   ]
  },
  {
   "cell_type": "code",
   "execution_count": 21,
   "id": "7229c7ec",
   "metadata": {},
   "outputs": [
    {
     "name": "stdout",
     "output_type": "stream",
     "text": [
      "+--------+--------+--------------------+------------------+\n",
      "|   Sales|Discount|Original sales value|   Sale difference|\n",
      "+--------+--------+--------------------+------------------+\n",
      "|    79.2|       0|                79.2|               0.0|\n",
      "|  388.92|       0|              388.92|               0.0|\n",
      "|   35.19|       0|               35.19|               0.0|\n",
      "|   50.94|       0|               50.94|               0.0|\n",
      "|  307.44|       0|              307.44|               0.0|\n",
      "|   122.4|       0|               122.4|               0.0|\n",
      "|  413.82|       0|              413.82|               0.0|\n",
      "|  428.22|       0|              428.22|               0.0|\n",
      "| 3979.29|       0|             3979.29|               0.0|\n",
      "|   43.56|       0|               43.56|               0.0|\n",
      "|   25.26|       0|               25.26|               0.0|\n",
      "|2443.905|     0.1|  2715.4500000000003| 271.5450000000001|\n",
      "|   12.21|       0|               12.21|               0.0|\n",
      "|2167.296|    0.15|  2549.7599999999998|382.46399999999994|\n",
      "| 138.105|     0.1|              153.45|15.344999999999999|\n",
      "| 128.385|     0.1|  142.64999999999998|14.264999999999986|\n",
      "|  690.12|       0|              690.12|               0.0|\n",
      "|    8.16|       0|                8.16|               0.0|\n",
      "|  347.88|       0|              347.88|               0.0|\n",
      "| 575.505|     0.1|   639.4499999999999|63.944999999999936|\n",
      "+--------+--------+--------------------+------------------+\n",
      "only showing top 20 rows\n",
      "\n"
     ]
    }
   ],
   "source": [
    "df.select(\"Sales\", \"Discount\", \"Original sales value\", \"Sale difference\").show()"
   ]
  },
  {
   "cell_type": "code",
   "execution_count": 22,
   "id": "8e810f4f",
   "metadata": {},
   "outputs": [
    {
     "name": "stdout",
     "output_type": "stream",
     "text": [
      "+--------+--------------------+\n",
      "|Discount|sum(Sale Difference)|\n",
      "+--------+--------------------+\n",
      "|       0|                 0.0|\n",
      "|     0.1|   84712.44899999995|\n",
      "|    0.15|   45233.17650000002|\n",
      "|     0.2|  10653.119999999997|\n",
      "|     0.3|  2630.2410000000004|\n",
      "|    0.35|  29163.099000000002|\n",
      "|     0.4|   46724.68800000002|\n",
      "|    0.45|  2083.4414999999995|\n",
      "|     0.5|  183734.26500000045|\n",
      "|     0.6|   39644.04599999997|\n",
      "|    0.65|  12219.655499999999|\n",
      "|     0.7|            8534.085|\n",
      "|     0.8|   635.6640000000002|\n",
      "|    0.85|            4515.438|\n",
      "+--------+--------------------+\n",
      "\n"
     ]
    }
   ],
   "source": [
    "# how much money did we not gain due to the discounts - per discount bracket?\n",
    "df2 = df.groupBy(\"Discount\").agg({\"Sale Difference\" : \"sum\"}).orderBy(\"Discount\")\n",
    "df2.show()"
   ]
  },
  {
   "cell_type": "code",
   "execution_count": 23,
   "id": "76aca9f2",
   "metadata": {},
   "outputs": [
    {
     "name": "stdout",
     "output_type": "stream",
     "text": [
      "+--------+--------------------+\n",
      "|Discount|sum(Sale Difference)|\n",
      "+--------+--------------------+\n",
      "|     0.5|  183734.26500000045|\n",
      "+--------+--------------------+\n",
      "only showing top 1 row\n",
      "\n"
     ]
    }
   ],
   "source": [
    "# find the discount bracket which made us not gain the most (dynamically)\n",
    "df2.orderBy(\"sum(Sale difference)\", ascending = False).show(1)\n"
   ]
  },
  {
   "cell_type": "code",
   "execution_count": 24,
   "id": "1315b86e",
   "metadata": {},
   "outputs": [
    {
     "name": "stdout",
     "output_type": "stream",
     "text": [
      "+--------+-----------+\n",
      "|Discount|sum(Profit)|\n",
      "+--------+-----------+\n",
      "|     0.5| -96632.115|\n",
      "+--------+-----------+\n",
      "only showing top 1 row\n",
      "\n"
     ]
    }
   ],
   "source": [
    "#alternatively.\n",
    "df.groupBy(\"Discount\").agg({\"Profit\" : \"sum\"}).orderBy(\"sum(Profit)\").show(1)"
   ]
  },
  {
   "cell_type": "code",
   "execution_count": 25,
   "id": "081d7e2d",
   "metadata": {},
   "outputs": [
    {
     "name": "stdout",
     "output_type": "stream",
     "text": [
      "+-----------------+\n",
      "|      sum(Profit)|\n",
      "+-----------------+\n",
      "|372829.7415000005|\n",
      "+-----------------+\n",
      "\n"
     ]
    }
   ],
   "source": [
    "Total_profit = df.agg({\"Profit\": \"sum\"})\n",
    "Total_profit.show()"
   ]
  },
  {
   "cell_type": "code",
   "execution_count": 26,
   "id": "0aa9b685",
   "metadata": {},
   "outputs": [
    {
     "name": "stdout",
     "output_type": "stream",
     "text": [
      "+-----------------+\n",
      "|      sum(Profit)|\n",
      "+-----------------+\n",
      "|469461.8565000003|\n",
      "+-----------------+\n",
      "\n"
     ]
    }
   ],
   "source": [
    "# what would have been the total profit if we removed all orders from that discount group? \n",
    "df3 = df.filter(df[\"Discount\"] != 0.5)\n",
    "Total_profit_without_highest_discount = df3.agg({\"Profit\": \"sum\"})\n",
    "Total_profit_without_highest_discount.show()"
   ]
  },
  {
   "cell_type": "code",
   "execution_count": 27,
   "id": "fca95e60",
   "metadata": {},
   "outputs": [
    {
     "data": {
      "text/plain": [
       "96632.11499999976"
      ]
     },
     "execution_count": 27,
     "metadata": {},
     "output_type": "execute_result"
    }
   ],
   "source": [
    "#how much more (or less) profit is that?\n",
    "\n",
    "Total_profit_without_highest_discount.collect()[0][0] - Total_profit.collect()[0][0]"
   ]
  },
  {
   "cell_type": "code",
   "execution_count": 28,
   "id": "0fb49200",
   "metadata": {},
   "outputs": [
    {
     "name": "stderr",
     "output_type": "stream",
     "text": [
      "C:\\Users\\HP\\anaconda3\\lib\\site-packages\\pyspark\\sql\\dataframe.py:229: FutureWarning: Deprecated in 2.0, use createOrReplaceTempView instead.\n",
      "  warnings.warn(\"Deprecated in 2.0, use createOrReplaceTempView instead.\", FutureWarning)\n"
     ]
    }
   ],
   "source": [
    "# create a temporary table for our superstore table in sql\n",
    "df.registerTempTable(\"df\")"
   ]
  },
  {
   "cell_type": "code",
   "execution_count": 29,
   "id": "a23e0bca",
   "metadata": {},
   "outputs": [
    {
     "name": "stdout",
     "output_type": "stream",
     "text": [
      "+--------+\n",
      "|count(1)|\n",
      "+--------+\n",
      "|   10000|\n",
      "+--------+\n",
      "\n"
     ]
    }
   ],
   "source": [
    "# use an SQL query to count the number of rows\n",
    "\n",
    "spark.sql(\"select count(*) from df\").show()\n"
   ]
  },
  {
   "cell_type": "code",
   "execution_count": 32,
   "id": "8e2cf9f2",
   "metadata": {},
   "outputs": [
    {
     "name": "stdout",
     "output_type": "stream",
     "text": [
      "+------------------+\n",
      "|             ratio|\n",
      "+------------------+\n",
      "|0.1268953165462097|\n",
      "+------------------+\n",
      "\n"
     ]
    }
   ],
   "source": [
    "# Use an SQL query to calculate the profit ratio for each country: hint, ratio is sum(profit)/sum(sales)\n",
    "spark.sql(\"select sum(Profit)/sum(Sales) as ratio from df \").show()"
   ]
  },
  {
   "cell_type": "code",
   "execution_count": 65,
   "id": "f8cdd772",
   "metadata": {},
   "outputs": [
    {
     "name": "stdout",
     "output_type": "stream",
     "text": [
      "+--------------+-------------------+---------------------+\n",
      "|       country|        sum(Profit)|sum((Profit / Sales))|\n",
      "+--------------+-------------------+---------------------+\n",
      "|        Sweden|-17519.366999999987|  -102.00288339372285|\n",
      "|       Germany| 107322.82049999991|   382.72996553246355|\n",
      "|        France| 109029.00299999975|   459.09052906039324|\n",
      "|       Belgium|           11572.59|    36.43431096913639|\n",
      "|       Finland|            3905.73|    14.71841983001711|\n",
      "|         Italy| 19828.757999999965|     85.0870597765804|\n",
      "|        Norway|            5167.77|   17.521202479057507|\n",
      "|         Spain|  54390.11999999999|   179.98874046541965|\n",
      "|       Denmark|-4282.0470000000005|   -34.86752579094944|\n",
      "|       Ireland| -7392.381000000003|  -52.118361055897715|\n",
      "|   Switzerland|  7237.470000000001|   17.981956121444878|\n",
      "|      Portugal| -8703.059999999998|   -36.15228703973136|\n",
      "|       Austria|           21442.26|    67.60928451576017|\n",
      "|United Kingdom| 111900.15000000001|   270.17314827227756|\n",
      "|   Netherlands| -41070.07499999996|   -204.1254892384001|\n",
      "+--------------+-------------------+---------------------+\n",
      "\n"
     ]
    }
   ],
   "source": [
    "# is the country with the largest profit ratio, the country with the largest profit?\n",
    "spark.sql(\"select country, sum(Profit), sum(Profit/Sales) from df group by Country\").show()"
   ]
  },
  {
   "cell_type": "code",
   "execution_count": null,
   "id": "4c7397b1",
   "metadata": {},
   "outputs": [],
   "source": []
  },
  {
   "cell_type": "code",
   "execution_count": null,
   "id": "1620d4aa",
   "metadata": {},
   "outputs": [],
   "source": []
  }
 ],
 "metadata": {
  "kernelspec": {
   "display_name": "Python 3 (ipykernel)",
   "language": "python",
   "name": "python3"
  },
  "language_info": {
   "codemirror_mode": {
    "name": "ipython",
    "version": 3
   },
   "file_extension": ".py",
   "mimetype": "text/x-python",
   "name": "python",
   "nbconvert_exporter": "python",
   "pygments_lexer": "ipython3",
   "version": "3.9.12"
  }
 },
 "nbformat": 4,
 "nbformat_minor": 5
}
