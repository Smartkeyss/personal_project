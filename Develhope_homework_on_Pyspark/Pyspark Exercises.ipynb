{
 "cells": [
  {
   "cell_type": "code",
   "execution_count": 16,
   "id": "9d867484",
   "metadata": {},
   "outputs": [],
   "source": [
    "import pyspark\n",
    "from pyspark.sql import SparkSession"
   ]
  },
  {
   "cell_type": "code",
   "execution_count": 17,
   "id": "18cf8dbd",
   "metadata": {},
   "outputs": [],
   "source": [
    "spark = SparkSession.builder.master(\"local[*]\").appName(\"Datamanipulation\").getOrCreate()"
   ]
  },
  {
   "cell_type": "code",
   "execution_count": 18,
   "id": "9e64796c",
   "metadata": {},
   "outputs": [
    {
     "data": {
      "text/html": [
       "\n",
       "            <div>\n",
       "                <p><b>SparkSession - in-memory</b></p>\n",
       "                \n",
       "        <div>\n",
       "            <p><b>SparkContext</b></p>\n",
       "\n",
       "            <p><a href=\"http://DESKTOP-ABN5V9J:4040\">Spark UI</a></p>\n",
       "\n",
       "            <dl>\n",
       "              <dt>Version</dt>\n",
       "                <dd><code>v3.3.2</code></dd>\n",
       "              <dt>Master</dt>\n",
       "                <dd><code>local[*]</code></dd>\n",
       "              <dt>AppName</dt>\n",
       "                <dd><code>Datamanipulation</code></dd>\n",
       "            </dl>\n",
       "        </div>\n",
       "        \n",
       "            </div>\n",
       "        "
      ],
      "text/plain": [
       "<pyspark.sql.session.SparkSession at 0x223f9fdb430>"
      ]
     },
     "execution_count": 18,
     "metadata": {},
     "output_type": "execute_result"
    }
   ],
   "source": [
    "spark"
   ]
  },
  {
   "cell_type": "code",
   "execution_count": 19,
   "id": "1cb29770",
   "metadata": {},
   "outputs": [],
   "source": [
    "# read our data - lives in a csv file\n",
    "\n",
    "df = spark.read.option(\"header\",\"true\").csv(\"Sample - EU Superstore.csv\")"
   ]
  },
  {
   "cell_type": "code",
   "execution_count": 20,
   "id": "b1bbd7dd",
   "metadata": {},
   "outputs": [
    {
     "name": "stdout",
     "output_type": "stream",
     "text": [
      "+------+---------------+----------+----------+--------------+-----------+----------------+-----------+-------------+--------------------+--------------+-------+---------------+---------------+------------+--------------------+--------+--------+--------+-------+\n",
      "|Row ID|       Order ID|Order Date| Ship Date|     Ship Mode|Customer ID|   Customer Name|    Segment|         City|               State|       Country| Region|     Product ID|       Category|Sub-Category|        Product Name|   Sales|Quantity|Discount| Profit|\n",
      "+------+---------------+----------+----------+--------------+-----------+----------------+-----------+-------------+--------------------+--------------+-------+---------------+---------------+------------+--------------------+--------+--------+--------+-------+\n",
      "|     1|ES-2017-1311038|07/02/2017|11/02/2017|Standard Class|   AS-10045|  Aaron Smayling|  Corporate|        Leeds|             England|United Kingdom|  North|OFF-ST-10000988|Office Supplies|     Storage|Fellowes Folders,...|    79.2|       3|       0|   39.6|\n",
      "|     2|ES-2017-1311038|07/02/2017|11/02/2017|Standard Class|   AS-10045|  Aaron Smayling|  Corporate|        Leeds|             England|United Kingdom|  North|TEC-AC-10004144|     Technology| Accessories|SanDisk Numeric K...|  388.92|       7|       0|      0|\n",
      "|     3|ES-2017-1311038|07/02/2017|11/02/2017|Standard Class|   AS-10045|  Aaron Smayling|  Corporate|        Leeds|             England|United Kingdom|  North|OFF-LA-10001915|Office Supplies|      Labels|Avery Legal Exhib...|   35.19|       3|       0|  16.11|\n",
      "|     4|ES-2017-1311038|07/02/2017|11/02/2017|Standard Class|   AS-10045|  Aaron Smayling|  Corporate|        Leeds|             England|United Kingdom|  North|OFF-ST-10004550|Office Supplies|     Storage|Fellowes Folders,...|   50.94|       2|       0|   13.2|\n",
      "|     5|ES-2017-1311038|07/02/2017|11/02/2017|Standard Class|   AS-10045|  Aaron Smayling|  Corporate|        Leeds|             England|United Kingdom|  North|TEC-AC-10004068|     Technology| Accessories|Memorex Memory Ca...|  307.44|       3|       0|  73.71|\n",
      "|     6|ES-2017-1311038|07/02/2017|11/02/2017|Standard Class|   AS-10045|  Aaron Smayling|  Corporate|        Leeds|             England|United Kingdom|  North|OFF-ST-10002271|Office Supplies|     Storage|Rogers Shelving, ...|   122.4|       2|       0|  37.92|\n",
      "|     7|ES-2017-1311038|07/02/2017|11/02/2017|Standard Class|   AS-10045|  Aaron Smayling|  Corporate|        Leeds|             England|United Kingdom|  North|TEC-PH-10003963|     Technology|      Phones|Apple Signal Boos...|  413.82|       3|       0|  20.61|\n",
      "|     8|ES-2015-5113958|02/08/2015|07/08/2015|  Second Class|   EB-13840|   Ellis Ballard|  Corporate|West Bromwich|             England|United Kingdom|  North|TEC-CO-10004325|     Technology|     Copiers|Canon Personal Co...|  428.22|       3|       0| 192.69|\n",
      "|     9|ES-2015-5113958|02/08/2015|07/08/2015|  Second Class|   EB-13840|   Ellis Ballard|  Corporate|West Bromwich|             England|United Kingdom|  North|OFF-AP-10004512|Office Supplies|  Appliances|   Hoover Stove, Red| 3979.29|       7|       0|1989.54|\n",
      "|    10|ES-2015-5113958|02/08/2015|07/08/2015|  Second Class|   EB-13840|   Ellis Ballard|  Corporate|West Bromwich|             England|United Kingdom|  North|OFF-FA-10002393|Office Supplies|   Fasteners|Accos Push Pins, ...|   43.56|       3|       0|   12.6|\n",
      "|    11|ES-2015-2510515|20/06/2015|20/06/2015|      Same Day|   LH-17155|Logan Haushalter|   Consumer|   Le Bouscat|Aquitaine-Limousi...|        France|Central|OFF-LA-10002805|Office Supplies|      Labels|Hon Color Coded L...|   25.26|       2|       0|   0.48|\n",
      "|    12|ES-2015-2510515|20/06/2015|20/06/2015|      Same Day|   LH-17155|Logan Haushalter|   Consumer|   Le Bouscat|Aquitaine-Limousi...|        France|Central|OFF-AP-10002330|Office Supplies|  Appliances|Hamilton Beach St...|2443.905|       5|     0.1|760.305|\n",
      "|    13|ES-2015-2510515|20/06/2015|20/06/2015|      Same Day|   LH-17155|Logan Haushalter|   Consumer|   Le Bouscat|Aquitaine-Limousi...|        France|Central|OFF-AR-10000505|Office Supplies|         Art|Binney & Smith Pe...|   12.21|       1|       0|      0|\n",
      "|    14|ES-2015-2510515|20/06/2015|20/06/2015|      Same Day|   LH-17155|Logan Haushalter|   Consumer|   Le Bouscat|Aquitaine-Limousi...|        France|Central|TEC-PH-10002898|     Technology|      Phones|Samsung Smart Pho...|2167.296|       4|    0.15|790.416|\n",
      "|    15|ES-2015-2510515|20/06/2015|20/06/2015|      Same Day|   LH-17155|Logan Haushalter|   Consumer|   Le Bouscat|Aquitaine-Limousi...|        France|Central|OFF-ST-10001413|Office Supplies|     Storage|Rogers Folders, Blue| 138.105|       5|     0.1|-12.345|\n",
      "|    16|ES-2016-4380115|16/02/2016|20/02/2016|Standard Class|   KC-16540| Kelly Collister|   Consumer|   Strasbourg|Alsace-Champagne-...|        France|Central|OFF-ST-10003931|Office Supplies|     Storage|Smead Trays, Wire...| 128.385|       3|     0.1|  4.275|\n",
      "|    17|ES-2016-4380115|16/02/2016|20/02/2016|Standard Class|   KC-16540| Kelly Collister|   Consumer|   Strasbourg|Alsace-Champagne-...|        France|Central|TEC-AC-10004269|     Technology| Accessories|Belkin Memory Car...|  690.12|       6|       0|      0|\n",
      "|    18|ES-2016-4380115|16/02/2016|20/02/2016|Standard Class|   KC-16540| Kelly Collister|   Consumer|   Strasbourg|Alsace-Champagne-...|        France|Central|OFF-LA-10001676|Office Supplies|      Labels|Hon Removable Lab...|    8.16|       1|       0|   1.14|\n",
      "|    19|ES-2017-2573330|03/11/2017|08/11/2017|Standard Class|   BF-11170|      Ben Ferrer|Home Office|         Unna|North Rhine-Westp...|       Germany|Central|TEC-MA-10000811|     Technology|    Machines|Okidata Phone, Du...|  347.88|       4|       0|  76.44|\n",
      "|    20|ES-2017-2573330|03/11/2017|08/11/2017|Standard Class|   BF-11170|      Ben Ferrer|Home Office|         Unna|North Rhine-Westp...|       Germany|Central|OFF-ST-10000648|Office Supplies|     Storage|Eldon File Cart, ...| 575.505|       5|     0.1| 12.705|\n",
      "+------+---------------+----------+----------+--------------+-----------+----------------+-----------+-------------+--------------------+--------------+-------+---------------+---------------+------------+--------------------+--------+--------+--------+-------+\n",
      "only showing top 20 rows\n",
      "\n"
     ]
    }
   ],
   "source": [
    "df.show()"
   ]
  },
  {
   "cell_type": "code",
   "execution_count": 21,
   "id": "d4ed7458",
   "metadata": {},
   "outputs": [
    {
     "data": {
      "text/plain": [
       "['Row ID',\n",
       " 'Order ID',\n",
       " 'Order Date',\n",
       " 'Ship Date',\n",
       " 'Ship Mode',\n",
       " 'Customer ID',\n",
       " 'Customer Name',\n",
       " 'Segment',\n",
       " 'City',\n",
       " 'State',\n",
       " 'Country',\n",
       " 'Region',\n",
       " 'Product ID',\n",
       " 'Category',\n",
       " 'Sub-Category',\n",
       " 'Product Name',\n",
       " 'Sales',\n",
       " 'Quantity',\n",
       " 'Discount',\n",
       " 'Profit']"
      ]
     },
     "execution_count": 21,
     "metadata": {},
     "output_type": "execute_result"
    }
   ],
   "source": [
    "df.columns"
   ]
  },
  {
   "cell_type": "code",
   "execution_count": 31,
   "id": "6c800030",
   "metadata": {},
   "outputs": [
    {
     "data": {
      "text/plain": [
       "2827"
      ]
     },
     "execution_count": 31,
     "metadata": {},
     "output_type": "execute_result"
    }
   ],
   "source": [
    "# how many rows of the EU Superstore dataset have the country being France\n",
    "df.filter(df[\"Country\"] == \"France\").count()"
   ]
  },
  {
   "cell_type": "code",
   "execution_count": 34,
   "id": "648e5f8a",
   "metadata": {},
   "outputs": [
    {
     "data": {
      "text/plain": [
       "7569"
      ]
     },
     "execution_count": 34,
     "metadata": {},
     "output_type": "execute_result"
    }
   ],
   "source": [
    "# of those, how many are profitable\n",
    "df.filter(df[\"Profit\"] > 0).count()\n"
   ]
  },
  {
   "cell_type": "code",
   "execution_count": 37,
   "id": "ca611b93",
   "metadata": {},
   "outputs": [
    {
     "name": "stdout",
     "output_type": "stream",
     "text": [
      "+--------+\n",
      "|Discount|\n",
      "+--------+\n",
      "|     0.3|\n",
      "|     0.7|\n",
      "|       0|\n",
      "|     0.2|\n",
      "|    0.15|\n",
      "|    0.35|\n",
      "|     0.8|\n",
      "|    0.45|\n",
      "|     0.5|\n",
      "|    0.65|\n",
      "|     0.6|\n",
      "|     0.1|\n",
      "|    0.85|\n",
      "|     0.4|\n",
      "+--------+\n",
      "\n"
     ]
    }
   ],
   "source": [
    "# how any different discount brackets exist? what are they?\n",
    "df.select(df[\"Discount\"]).distinct().show()"
   ]
  },
  {
   "cell_type": "code",
   "execution_count": 4,
   "id": "b2e1f9f0",
   "metadata": {},
   "outputs": [],
   "source": [
    "# let's see the totl profit by discount bracket, make sure they are ordered by \n"
   ]
  },
  {
   "cell_type": "code",
   "execution_count": null,
   "id": "d1d76050",
   "metadata": {},
   "outputs": [],
   "source": [
    "# what is the value after which we should stop offering discount?\n",
    "\n"
   ]
  },
  {
   "cell_type": "code",
   "execution_count": 5,
   "id": "aae94ee1",
   "metadata": {},
   "outputs": [],
   "source": [
    "# who are the top 5 most profitable customers\n",
    "\n"
   ]
  },
  {
   "cell_type": "code",
   "execution_count": 6,
   "id": "277c465a",
   "metadata": {},
   "outputs": [],
   "source": [
    "# get all the rows belonging to those 5 customer names: hint, you may need the collect method - how many rows are they?\n",
    "\n"
   ]
  },
  {
   "cell_type": "code",
   "execution_count": null,
   "id": "8d0fc034",
   "metadata": {},
   "outputs": [],
   "source": [
    "# create a new column which is the value of the sale were there not discount applied. Hint: orginal = sales/(1-d)"
   ]
  },
  {
   "cell_type": "code",
   "execution_count": null,
   "id": "5f9d09ac",
   "metadata": {},
   "outputs": [],
   "source": []
  },
  {
   "cell_type": "code",
   "execution_count": 7,
   "id": "ba0f9aa9",
   "metadata": {},
   "outputs": [],
   "source": [
    "# calculate the difference between sales and discount value\n"
   ]
  },
  {
   "cell_type": "code",
   "execution_count": 8,
   "id": "8e810f4f",
   "metadata": {},
   "outputs": [],
   "source": [
    "# how much money did we not gain due to the discounts - per discount bracket?\n"
   ]
  },
  {
   "cell_type": "code",
   "execution_count": 9,
   "id": "76aca9f2",
   "metadata": {},
   "outputs": [],
   "source": [
    "# find the discount bracket which made us not gain the most (dynamically)\n",
    "\n"
   ]
  },
  {
   "cell_type": "code",
   "execution_count": 10,
   "id": "0aa9b685",
   "metadata": {},
   "outputs": [],
   "source": [
    "# what would have been the total profit if we removed all orders from that discount group? \n"
   ]
  },
  {
   "cell_type": "code",
   "execution_count": 11,
   "id": "fca95e60",
   "metadata": {},
   "outputs": [],
   "source": [
    "#how much more (or less) profit is that?\n",
    "\n"
   ]
  },
  {
   "cell_type": "code",
   "execution_count": 26,
   "id": "0fb49200",
   "metadata": {},
   "outputs": [
    {
     "name": "stderr",
     "output_type": "stream",
     "text": [
      "C:\\Users\\HP\\anaconda3\\lib\\site-packages\\pyspark\\sql\\dataframe.py:229: FutureWarning: Deprecated in 2.0, use createOrReplaceTempView instead.\n",
      "  warnings.warn(\"Deprecated in 2.0, use createOrReplaceTempView instead.\", FutureWarning)\n"
     ]
    }
   ],
   "source": [
    "# create a temporary table for our superstore table in sql\n",
    "df.registerTempTable(\"df\")"
   ]
  },
  {
   "cell_type": "code",
   "execution_count": 29,
   "id": "a23e0bca",
   "metadata": {},
   "outputs": [
    {
     "name": "stdout",
     "output_type": "stream",
     "text": [
      "+--------+\n",
      "|count(1)|\n",
      "+--------+\n",
      "|   10000|\n",
      "+--------+\n",
      "\n"
     ]
    }
   ],
   "source": [
    "# use an SQL query to count the number of rows\n",
    "\n",
    "spark.sql(\"select count(*) from df\").show()\n"
   ]
  },
  {
   "cell_type": "code",
   "execution_count": 14,
   "id": "8e2cf9f2",
   "metadata": {},
   "outputs": [],
   "source": [
    "# Use an SQL query to calculate the profit ratio for each country: hint, ratio is sum(profit)/sum(sales)\n"
   ]
  },
  {
   "cell_type": "code",
   "execution_count": 15,
   "id": "f8cdd772",
   "metadata": {},
   "outputs": [],
   "source": [
    "# is the country with the largest profit ratio, the country with the largest profit?\n",
    "\n"
   ]
  },
  {
   "cell_type": "code",
   "execution_count": null,
   "id": "4c7397b1",
   "metadata": {},
   "outputs": [],
   "source": []
  }
 ],
 "metadata": {
  "kernelspec": {
   "display_name": "Python 3 (ipykernel)",
   "language": "python",
   "name": "python3"
  },
  "language_info": {
   "codemirror_mode": {
    "name": "ipython",
    "version": 3
   },
   "file_extension": ".py",
   "mimetype": "text/x-python",
   "name": "python",
   "nbconvert_exporter": "python",
   "pygments_lexer": "ipython3",
   "version": "3.9.12"
  }
 },
 "nbformat": 4,
 "nbformat_minor": 5
}
