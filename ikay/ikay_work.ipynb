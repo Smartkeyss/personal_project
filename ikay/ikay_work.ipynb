{
 "cells": [
  {
   "cell_type": "code",
   "execution_count": 92,
   "id": "5a73c5c1",
   "metadata": {},
   "outputs": [],
   "source": [
    "import pyspark\n",
    "from pyspark.sql import SparkSession\n",
    "from pyspark.sql import SQLContext\n",
    "from pyspark.sql.functions import *\n",
    "import pandas as pd"
   ]
  },
  {
   "cell_type": "code",
   "execution_count": 93,
   "id": "ac20d03c",
   "metadata": {},
   "outputs": [],
   "source": [
    "sc = SparkSession.builder.master(\"local[*]\").appName(\"IK\").getOrCreate()"
   ]
  },
  {
   "cell_type": "code",
   "execution_count": 94,
   "id": "033fa31b",
   "metadata": {},
   "outputs": [],
   "source": [
    "df3 = pd.read_csv(\"cardio_alco.csv\")"
   ]
  },
  {
   "cell_type": "code",
   "execution_count": 95,
   "id": "c8e7aa33",
   "metadata": {},
   "outputs": [],
   "source": [
    "df3[[\"id\", \"alco\"]] = df3[\"id;alco\"].str.split(\";\", expand = True)"
   ]
  },
  {
   "cell_type": "code",
   "execution_count": 96,
   "id": "1e24ba7f",
   "metadata": {},
   "outputs": [],
   "source": [
    "df4 = df3.drop(\"id;alco\", axis = 1)[[\"id\", \"alco\"]].apply(pd.to_numeric)"
   ]
  },
  {
   "cell_type": "code",
   "execution_count": 97,
   "id": "b64316a1",
   "metadata": {},
   "outputs": [
    {
     "data": {
      "text/plain": [
       "id      int64\n",
       "alco    int64\n",
       "dtype: object"
      ]
     },
     "execution_count": 97,
     "metadata": {},
     "output_type": "execute_result"
    }
   ],
   "source": [
    "df4.dtypes"
   ]
  },
  {
   "cell_type": "code",
   "execution_count": 79,
   "id": "ac903e3c",
   "metadata": {},
   "outputs": [],
   "source": [
    "df4.to_csv(\"alco\")"
   ]
  },
  {
   "cell_type": "code",
   "execution_count": 80,
   "id": "957aeb40",
   "metadata": {},
   "outputs": [],
   "source": [
    "df1 = sc.read.csv(\"alco\", header = True, inferSchema=True)"
   ]
  },
  {
   "cell_type": "code",
   "execution_count": 111,
   "id": "b938b362",
   "metadata": {},
   "outputs": [],
   "source": [
    "df2= sc.read.csv(\"cardio_bases.csv\", header= True, inferSchema= True)"
   ]
  },
  {
   "cell_type": "code",
   "execution_count": 112,
   "id": "51e39223",
   "metadata": {},
   "outputs": [
    {
     "data": {
      "text/plain": [
       "DataFrame[summary: string, id: string, gender: string, height: string, weight: string, ap_hi: string, ap_lo: string, cholesterol: string, smoke: string]"
      ]
     },
     "execution_count": 112,
     "metadata": {},
     "output_type": "execute_result"
    }
   ],
   "source": [
    "df2.describe()"
   ]
  },
  {
   "cell_type": "code",
   "execution_count": 113,
   "id": "e4f7194e",
   "metadata": {},
   "outputs": [],
   "source": [
    "df2 = df2.withColumn(\"date of birth\", to_date(df2.age))"
   ]
  },
  {
   "cell_type": "code",
   "execution_count": 115,
   "id": "7de0d579",
   "metadata": {},
   "outputs": [
    {
     "name": "stdout",
     "output_type": "stream",
     "text": [
      "+---+------+------+------+-----+-----+-----------+-----+-------------+\n",
      "| id|gender|height|weight|ap_hi|ap_lo|cholesterol|smoke|date of birth|\n",
      "+---+------+------+------+-----+-----+-----------+-----+-------------+\n",
      "|  0|     2|   168|  62.0|  110|   80|          1|    0|   1950-05-10|\n",
      "|  1|     1|   156|  85.0|  140|   90|          3|    0|   1955-05-19|\n",
      "|  2|     1|   165|  64.0|  130|   70|          3|    0|   1951-08-17|\n",
      "|  3|     2|   169|  82.0|  150|  100|          1|    0|   1948-03-31|\n",
      "|  4|     1|   156|  56.0|  100|   60|          1|    0|   1947-11-03|\n",
      "|  8|     1|   151|  67.0|  120|   80|          2|    0|   1959-12-30|\n",
      "|  9|     1|   157|  93.0|  130|   80|          3|    0|   1960-07-16|\n",
      "| 12|     2|   178|  95.0|  130|   90|          3|    0|   1961-10-30|\n",
      "| 13|     1|   158|  71.0|  110|   70|          1|    0|   1948-05-15|\n",
      "| 14|     1|   164|  68.0|  110|   60|          1|    0|   1954-04-20|\n",
      "| 15|     1|   169|  80.0|  120|   80|          1|    0|   1961-09-06|\n",
      "| 16|     2|   173|  60.0|  120|   80|          1|    0|   1951-07-06|\n",
      "| 18|     2|   165|  60.0|  120|   80|          1|    0|   1940-06-29|\n",
      "| 21|     1|   158|  78.0|  110|   70|          1|    0|   1954-03-26|\n",
      "| 23|     2|   181|  95.0|  130|   90|          1|    1|   1939-10-14|\n",
      "| 24|     2|   172| 112.0|  120|   80|          1|    0|   1945-12-11|\n",
      "| 25|     1|   170|  75.0|  130|   70|          1|    0|   1958-04-21|\n",
      "| 27|     1|   158|  52.0|  110|   70|          1|    0|   1945-11-06|\n",
      "| 28|     1|   154|  68.0|  100|   70|          1|    0|   1947-11-11|\n",
      "| 29|     2|   162|  56.0|  120|   70|          1|    1|   1959-07-24|\n",
      "+---+------+------+------+-----+-----+-----------+-----+-------------+\n",
      "only showing top 20 rows\n",
      "\n"
     ]
    }
   ],
   "source": [
    "df2.drop(\"age\").show()"
   ]
  },
  {
   "cell_type": "code",
   "execution_count": 117,
   "id": "68861c3a",
   "metadata": {},
   "outputs": [],
   "source": [
    "df2 = df2.select(\"id\", \"date of birth\", \"height\", \"weight\", \"ap_hi\", \"ap_lo\", \"cholesterol\", \"smoke\")"
   ]
  },
  {
   "cell_type": "code",
   "execution_count": 118,
   "id": "99be04b0",
   "metadata": {},
   "outputs": [],
   "source": [
    "df6= df2.join(df1, df1.id == df2.id, how=\"left\")"
   ]
  },
  {
   "cell_type": "code",
   "execution_count": 119,
   "id": "42e3a071",
   "metadata": {},
   "outputs": [
    {
     "name": "stdout",
     "output_type": "stream",
     "text": [
      "+---+-------------+------+------+-----+-----+-----------+-----+----+----+----+\n",
      "| id|date of birth|height|weight|ap_hi|ap_lo|cholesterol|smoke| _c0|  id|alco|\n",
      "+---+-------------+------+------+-----+-----+-----------+-----+----+----+----+\n",
      "|  0|   1950-05-10|   168|  62.0|  110|   80|          1|    0|null|null|null|\n",
      "|  1|   1955-05-19|   156|  85.0|  140|   90|          3|    0|null|null|null|\n",
      "|  2|   1951-08-17|   165|  64.0|  130|   70|          3|    0|null|null|null|\n",
      "|  3|   1948-03-31|   169|  82.0|  150|  100|          1|    0|null|null|null|\n",
      "|  4|   1947-11-03|   156|  56.0|  100|   60|          1|    0|null|null|null|\n",
      "|  8|   1959-12-30|   151|  67.0|  120|   80|          2|    0|null|null|null|\n",
      "|  9|   1960-07-16|   157|  93.0|  130|   80|          3|    0|null|null|null|\n",
      "| 12|   1961-10-30|   178|  95.0|  130|   90|          3|    0|null|null|null|\n",
      "| 13|   1948-05-15|   158|  71.0|  110|   70|          1|    0|null|null|null|\n",
      "| 14|   1954-04-20|   164|  68.0|  110|   60|          1|    0|null|null|null|\n",
      "| 15|   1961-09-06|   169|  80.0|  120|   80|          1|    0|null|null|null|\n",
      "| 16|   1951-07-06|   173|  60.0|  120|   80|          1|    0|null|null|null|\n",
      "| 18|   1940-06-29|   165|  60.0|  120|   80|          1|    0|null|null|null|\n",
      "| 21|   1954-03-26|   158|  78.0|  110|   70|          1|    0|null|null|null|\n",
      "| 23|   1939-10-14|   181|  95.0|  130|   90|          1|    1|null|null|null|\n",
      "| 24|   1945-12-11|   172| 112.0|  120|   80|          1|    0|null|null|null|\n",
      "| 25|   1958-04-21|   170|  75.0|  130|   70|          1|    0|null|null|null|\n",
      "| 27|   1945-11-06|   158|  52.0|  110|   70|          1|    0|null|null|null|\n",
      "| 28|   1947-11-11|   154|  68.0|  100|   70|          1|    0|null|null|null|\n",
      "| 29|   1959-07-24|   162|  56.0|  120|   70|          1|    1|null|null|null|\n",
      "+---+-------------+------+------+-----+-----+-----------+-----+----+----+----+\n",
      "only showing top 20 rows\n",
      "\n"
     ]
    }
   ],
   "source": [
    "df6.show()"
   ]
  },
  {
   "cell_type": "code",
   "execution_count": 101,
   "id": "d24306eb",
   "metadata": {},
   "outputs": [],
   "source": []
  },
  {
   "cell_type": "code",
   "execution_count": null,
   "id": "68f7279f",
   "metadata": {},
   "outputs": [],
   "source": []
  },
  {
   "cell_type": "code",
   "execution_count": null,
   "id": "c7774ed1",
   "metadata": {},
   "outputs": [],
   "source": []
  }
 ],
 "metadata": {
  "kernelspec": {
   "display_name": "Python 3 (ipykernel)",
   "language": "python",
   "name": "python3"
  },
  "language_info": {
   "codemirror_mode": {
    "name": "ipython",
    "version": 3
   },
   "file_extension": ".py",
   "mimetype": "text/x-python",
   "name": "python",
   "nbconvert_exporter": "python",
   "pygments_lexer": "ipython3",
   "version": "3.9.12"
  }
 },
 "nbformat": 4,
 "nbformat_minor": 5
}
