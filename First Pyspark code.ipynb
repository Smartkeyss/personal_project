{
 "cells": [
  {
   "cell_type": "code",
   "execution_count": 2,
   "id": "457db432",
   "metadata": {},
   "outputs": [],
   "source": [
    "import pyspark\n",
    "from pyspark.sql import SparkSession, SQLContext\n",
    "from pyspark.context import SparkContext\n",
    "from pyspark.sql.functions import *\n",
    "from pyspark.sql.types import *"
   ]
  },
  {
   "cell_type": "code",
   "execution_count": 40,
   "id": "96c7ec6b",
   "metadata": {},
   "outputs": [],
   "source": [
    "import findspark"
   ]
  },
  {
   "cell_type": "code",
   "execution_count": 4,
   "id": "6bc2d0cf",
   "metadata": {},
   "outputs": [],
   "source": [
    "import time\n",
    "import numpy as np"
   ]
  },
  {
   "cell_type": "code",
   "execution_count": 5,
   "id": "13a0aa47",
   "metadata": {},
   "outputs": [],
   "source": [
    "s"
   ]
  },
  {
   "cell_type": "code",
   "execution_count": 6,
   "id": "366fd0ff",
   "metadata": {},
   "outputs": [],
   "source": [
    "df = sc.read.json(\"nyt2.json\")"
   ]
  },
  {
   "cell_type": "code",
   "execution_count": 7,
   "id": "c4cf9ffc",
   "metadata": {},
   "outputs": [
    {
     "name": "stdout",
     "output_type": "stream",
     "text": [
      "+--------------------+--------------------+--------------------+-----------------+--------------------+-------------+-----------------+--------------------+----+--------------+--------------------+-------------+\n",
      "|                 _id|  amazon_product_url|              author| bestsellers_date|         description|        price|   published_date|           publisher|rank|rank_last_week|               title|weeks_on_list|\n",
      "+--------------------+--------------------+--------------------+-----------------+--------------------+-------------+-----------------+--------------------+----+--------------+--------------------+-------------+\n",
      "|{5b4aa4ead3089013...|http://www.amazon...|       Dean R Koontz|{{1211587200000}}|Odd Thomas, who c...|   {null, 27}|{{1212883200000}}|              Bantam| {1}|           {0}|           ODD HOURS|          {1}|\n",
      "|{5b4aa4ead3089013...|http://www.amazon...|     Stephenie Meyer|{{1211587200000}}|Aliens have taken...|{25.99, null}|{{1212883200000}}|       Little, Brown| {2}|           {1}|            THE HOST|          {3}|\n",
      "|{5b4aa4ead3089013...|http://www.amazon...|        Emily Giffin|{{1211587200000}}|A woman's happy m...|{24.95, null}|{{1212883200000}}|        St. Martin's| {3}|           {2}|LOVE THE ONE YOU'...|          {2}|\n",
      "|{5b4aa4ead3089013...|http://www.amazon...|   Patricia Cornwell|{{1211587200000}}|A Massachusetts s...|{22.95, null}|{{1212883200000}}|              Putnam| {4}|           {0}|           THE FRONT|          {1}|\n",
      "|{5b4aa4ead3089013...|http://www.amazon...|     Chuck Palahniuk|{{1211587200000}}|An aging porn que...|{24.95, null}|{{1212883200000}}|           Doubleday| {5}|           {0}|               SNUFF|          {1}|\n",
      "|{5b4aa4ead3089013...|http://www.amazon...|James Patterson a...|{{1211587200000}}|A woman finds an ...|{24.99, null}|{{1212883200000}}|       Little, Brown| {6}|           {3}|SUNDAYS AT TIFFANY’S|          {4}|\n",
      "|{5b4aa4ead3089013...|http://www.amazon...|       John Sandford|{{1211587200000}}|The Minneapolis d...|{26.95, null}|{{1212883200000}}|              Putnam| {7}|           {4}|        PHANTOM PREY|          {3}|\n",
      "|{5b4aa4ead3089013...|http://www.amazon...|       Jimmy Buffett|{{1211587200000}}|A Southern family...|{21.99, null}|{{1212883200000}}|       Little, Brown| {8}|           {6}|          SWINE NOT?|          {2}|\n",
      "|{5b4aa4ead3089013...|http://www.amazon...|    Elizabeth George|{{1211587200000}}|In Cornwall, tryi...|{27.95, null}|{{1212883200000}}|              Harper| {9}|           {8}|     CARELESS IN RED|          {3}|\n",
      "|{5b4aa4ead3089013...|http://www.amazon...|      David Baldacci|{{1211587200000}}|An intelligence a...|{26.99, null}|{{1212883200000}}|       Grand Central|{10}|           {7}|     THE WHOLE TRUTH|          {5}|\n",
      "|{5b4aa4ead3089013...|http://www.amazon...|        Troy Denning|{{1211587200000}}|The New Jedi orde...|   {null, 27}|{{1212883200000}}|  Del Rey/Ballantine|{11}|           {5}|          INVINCIBLE|          {2}|\n",
      "|{5b4aa4ead3089013...|http://www.amazon...|          James Frey|{{1211587200000}}|A novel, set in L...|{26.95, null}|{{1212883200000}}|              Harper|{12}|           {9}|BRIGHT SHINY MORNING|          {2}|\n",
      "|{5b4aa4ead3089013...|http://www.amazon...|         Garth Stein|{{1211587200000}}|A Lab-terrier mix...|{23.95, null}|{{1212883200000}}|              Harper|{13}|           {0}|THE ART OF RACING...|          {1}|\n",
      "|{5b4aa4ead3089013...|http://www.amazon...|     Debbie Macomber|{{1211587200000}}|A widow who owns ...|{24.95, null}|{{1212883200000}}|                Mira|{14}|          {10}|       TWENTY WISHES|          {4}|\n",
      "|{5b4aa4ead3089013...|http://www.amazon...|         Jeff Shaara|{{1211587200000}}|A novel about the...|   {null, 28}|{{1212883200000}}|          Ballantine|{15}|          {11}|      THE STEEL WAVE|          {2}|\n",
      "|{5b4aa4ead3089013...|http://www.amazon...|    Phillip Margolin|{{1211587200000}}|                    |    {null, 0}|{{1212883200000}}|HarperCollins Pub...|{16}|           {0}| EXECUTIVE PRIVILEGE|          {0}|\n",
      "|{5b4aa4ead3089013...|http://www.amazon...|       Jhumpa Lahiri|{{1211587200000}}|Stories of the an...|    {null, 0}|{{1212883200000}}|               Knopf|{17}|           {0}|  UNACCUSTOMED EARTH|          {0}|\n",
      "|{5b4aa4ead3089013...|http://www.amazon...|      Joseph O'Neill|{{1211587200000}}|A Dutchman desert...|    {null, 0}|{{1212883200000}}|Knopf Publishing ...|{18}|           {0}|          NETHERLAND|          {0}|\n",
      "|{5b4aa4ead3089013...|http://www.amazon...|        John Grisham|{{1211587200000}}|Political and leg...|    {null, 0}|{{1212883200000}}|Doubleday Publishing|{19}|           {0}|          THE APPEAL|          {0}|\n",
      "|{5b4aa4ead3089013...|http://www.amazon...|       James Rollins|{{1211587200000}}|                    |    {null, 0}|{{1212883200000}}|Random House Publ...|{20}|           {0}|INDIANA JONES AND...|          {0}|\n",
      "+--------------------+--------------------+--------------------+-----------------+--------------------+-------------+-----------------+--------------------+----+--------------+--------------------+-------------+\n",
      "only showing top 20 rows\n",
      "\n"
     ]
    }
   ],
   "source": [
    "df.show()"
   ]
  },
  {
   "cell_type": "code",
   "execution_count": 9,
   "id": "729edcf2",
   "metadata": {},
   "outputs": [
    {
     "data": {
      "text/plain": [
       "[('_id', 'struct<$oid:string>'),\n",
       " ('amazon_product_url', 'string'),\n",
       " ('author', 'string'),\n",
       " ('bestsellers_date', 'struct<$date:struct<$numberLong:string>>'),\n",
       " ('description', 'string'),\n",
       " ('price', 'struct<$numberDouble:string,$numberInt:string>'),\n",
       " ('published_date', 'struct<$date:struct<$numberLong:string>>'),\n",
       " ('publisher', 'string'),\n",
       " ('rank', 'struct<$numberInt:string>'),\n",
       " ('rank_last_week', 'struct<$numberInt:string>'),\n",
       " ('title', 'string'),\n",
       " ('weeks_on_list', 'struct<$numberInt:string>')]"
      ]
     },
     "execution_count": 9,
     "metadata": {},
     "output_type": "execute_result"
    }
   ],
   "source": [
    "df.dtypes"
   ]
  },
  {
   "cell_type": "code",
   "execution_count": 12,
   "id": "a0f77d7e",
   "metadata": {},
   "outputs": [
    {
     "data": {
      "text/plain": [
       "Row(_id=Row($oid='5b4aa4ead3089013507db18b'), amazon_product_url='http://www.amazon.com/Odd-Hours-Dean-Koontz/dp/0553807056?tag=NYTBS-20', author='Dean R Koontz', bestsellers_date=Row($date=Row($numberLong='1211587200000')), description='Odd Thomas, who can communicate with the dead, confronts evil forces in a California coastal town.', price=Row($numberDouble=None, $numberInt='27'), published_date=Row($date=Row($numberLong='1212883200000')), publisher='Bantam', rank=Row($numberInt='1'), rank_last_week=Row($numberInt='0'), title='ODD HOURS', weeks_on_list=Row($numberInt='1'))"
      ]
     },
     "execution_count": 12,
     "metadata": {},
     "output_type": "execute_result"
    }
   ],
   "source": [
    "df.head()"
   ]
  },
  {
   "cell_type": "code",
   "execution_count": 11,
   "id": "e51c8a2f",
   "metadata": {},
   "outputs": [
    {
     "name": "stdout",
     "output_type": "stream",
     "text": [
      "+-------+--------------------+---------------+--------------------+---------+------------------+\n",
      "|summary|  amazon_product_url|         author|         description|publisher|             title|\n",
      "+-------+--------------------+---------------+--------------------+---------+------------------+\n",
      "|  count|               10195|          10195|               10195|    10195|             10195|\n",
      "|   mean|                null|           null|                null|     null|1877.7142857142858|\n",
      "| stddev|                null|           null|                null|     null| 370.9760613506458|\n",
      "|    min|http://www.amazon...|        AJ Finn|                    |      ACE|  10TH ANNIVERSARY|\n",
      "|    max|https://www.amazo...|various authors|’Tis for the Rebe...|allantine|               ZOO|\n",
      "+-------+--------------------+---------------+--------------------+---------+------------------+\n",
      "\n"
     ]
    }
   ],
   "source": [
    "df.describe().show()"
   ]
  },
  {
   "cell_type": "code",
   "execution_count": 13,
   "id": "360ae7f4",
   "metadata": {},
   "outputs": [
    {
     "data": {
      "text/plain": [
       "10195"
      ]
     },
     "execution_count": 13,
     "metadata": {},
     "output_type": "execute_result"
    }
   ],
   "source": [
    "df.count()"
   ]
  },
  {
   "cell_type": "code",
   "execution_count": 19,
   "id": "f458a4cb",
   "metadata": {},
   "outputs": [
    {
     "name": "stdout",
     "output_type": "stream",
     "text": [
      "+--------------------+--------------------+---------------+-----------------+--------------------+-------------+-----------------+-------------+----+--------------+------------------+-------------+\n",
      "|                 _id|  amazon_product_url|         author| bestsellers_date|         description|        price|   published_date|    publisher|rank|rank_last_week|             title|weeks_on_list|\n",
      "+--------------------+--------------------+---------------+-----------------+--------------------+-------------+-----------------+-------------+----+--------------+------------------+-------------+\n",
      "|{5b4aa4ead3089013...|http://www.amazon...|   Daniel Silva|{{1217030400000}}|Gabriel Allon, an...|{26.95, null}|{{1218326400000}}|       Putnam| {1}|           {0}|THE SECRET SERVANT|          {1}|\n",
      "|{5b4aa4ead3089013...|http://www.amazon...|     Jane Green|{{1218240000000}}|A woman’s life ch...|    {null, 0}|{{1219536000000}}|       Viking|{18}|           {0}|   THE BEACH HOUSE|          {0}|\n",
      "|{5b4aa4ead3089013...|http://www.amazon...|       J D Robb|{{1226102400000}}|Lt. Eve Dallas in...|{25.95, null}|{{1227398400000}}|       Putnam| {2}|           {0}|SALVATION IN DEATH|          {1}|\n",
      "|{5b4aa4ead3089013...|http://www.amazon...|  Toni Morrison|{{1226707200000}}|In 17th-century A...|{23.95, null}|{{1228003200000}}|        Knopf| {5}|           {0}|           A MERCY|          {1}|\n",
      "|{5b4aa4ead3089013...|http://www.amazon...|Nicholas Sparks|{{1232150400000}}|A Marine returnin...|    {null, 0}|{{1233446400000}}|Grand Central|{16}|           {0}|     THE LUCKY ONE|          {0}|\n",
      "+--------------------+--------------------+---------------+-----------------+--------------------+-------------+-----------------+-------------+----+--------------+------------------+-------------+\n",
      "only showing top 5 rows\n",
      "\n"
     ]
    }
   ],
   "source": [
    "df.distinct().show(5)"
   ]
  },
  {
   "cell_type": "code",
   "execution_count": 16,
   "id": "b99e0dff",
   "metadata": {},
   "outputs": [
    {
     "data": {
      "text/plain": [
       "[Row(_id=Row($oid='5b4aa4ead3089013507db18b'), amazon_product_url='http://www.amazon.com/Odd-Hours-Dean-Koontz/dp/0553807056?tag=NYTBS-20', author='Dean R Koontz', bestsellers_date=Row($date=Row($numberLong='1211587200000')), description='Odd Thomas, who can communicate with the dead, confronts evil forces in a California coastal town.', price=Row($numberDouble=None, $numberInt='27'), published_date=Row($date=Row($numberLong='1212883200000')), publisher='Bantam', rank=Row($numberInt='1'), rank_last_week=Row($numberInt='0'), title='ODD HOURS', weeks_on_list=Row($numberInt='1')),\n",
       " Row(_id=Row($oid='5b4aa4ead3089013507db18c'), amazon_product_url='http://www.amazon.com/The-Host-Novel-Stephenie-Meyer/dp/0316218502?tag=NYTBS-20', author='Stephenie Meyer', bestsellers_date=Row($date=Row($numberLong='1211587200000')), description='Aliens have taken control of the minds and bodies of most humans, but one woman won’t surrender.', price=Row($numberDouble='25.99', $numberInt=None), published_date=Row($date=Row($numberLong='1212883200000')), publisher='Little, Brown', rank=Row($numberInt='2'), rank_last_week=Row($numberInt='1'), title='THE HOST', weeks_on_list=Row($numberInt='3'))]"
      ]
     },
     "execution_count": 16,
     "metadata": {},
     "output_type": "execute_result"
    }
   ],
   "source": [
    "df.take(2)"
   ]
  },
  {
   "cell_type": "code",
   "execution_count": 17,
   "id": "f64b8ee1",
   "metadata": {},
   "outputs": [],
   "source": [
    "df_no_dup = df.dropDuplicates()"
   ]
  },
  {
   "cell_type": "code",
   "execution_count": 18,
   "id": "0f766241",
   "metadata": {},
   "outputs": [
    {
     "data": {
      "text/plain": [
       "10195"
      ]
     },
     "execution_count": 18,
     "metadata": {},
     "output_type": "execute_result"
    }
   ],
   "source": [
    "df_no_dup.count()"
   ]
  },
  {
   "cell_type": "code",
   "execution_count": 21,
   "id": "8743978d",
   "metadata": {},
   "outputs": [
    {
     "name": "stdout",
     "output_type": "stream",
     "text": [
      "+-----------------+--------------------+\n",
      "|           author|               title|\n",
      "+-----------------+--------------------+\n",
      "|    Dean R Koontz|           ODD HOURS|\n",
      "|  Stephenie Meyer|            THE HOST|\n",
      "|     Emily Giffin|LOVE THE ONE YOU'...|\n",
      "|Patricia Cornwell|           THE FRONT|\n",
      "|  Chuck Palahniuk|               SNUFF|\n",
      "+-----------------+--------------------+\n",
      "only showing top 5 rows\n",
      "\n"
     ]
    }
   ],
   "source": [
    "df.select(\"author\",\"title\").show(5)"
   ]
  },
  {
   "cell_type": "code",
   "execution_count": 23,
   "id": "1da8554a",
   "metadata": {},
   "outputs": [
    {
     "name": "stdout",
     "output_type": "stream",
     "text": [
      "+--------------------+----------------------------------------------+\n",
      "|               title|CASE WHEN (title = THE HOST) THEN 1 ELSE 0 END|\n",
      "+--------------------+----------------------------------------------+\n",
      "|           ODD HOURS|                                             0|\n",
      "|            THE HOST|                                             1|\n",
      "|LOVE THE ONE YOU'...|                                             0|\n",
      "|           THE FRONT|                                             0|\n",
      "+--------------------+----------------------------------------------+\n",
      "only showing top 4 rows\n",
      "\n"
     ]
    }
   ],
   "source": [
    "df.select(\"title\", when (df.title == \"THE HOST\", 1).otherwise(0)).show(4)"
   ]
  },
  {
   "cell_type": "code",
   "execution_count": 24,
   "id": "aed22e9d",
   "metadata": {},
   "outputs": [
    {
     "name": "stdout",
     "output_type": "stream",
     "text": [
      "+--------------------+--------------------+-------------+-----------------+--------------------+----------+-----------------+---------+----+--------------+---------+-------------+\n",
      "|                 _id|  amazon_product_url|       author| bestsellers_date|         description|     price|   published_date|publisher|rank|rank_last_week|    title|weeks_on_list|\n",
      "+--------------------+--------------------+-------------+-----------------+--------------------+----------+-----------------+---------+----+--------------+---------+-------------+\n",
      "|{5b4aa4ead3089013...|http://www.amazon...|Dean R Koontz|{{1211587200000}}|Odd Thomas, who c...|{null, 27}|{{1212883200000}}|   Bantam| {1}|           {0}|ODD HOURS|          {1}|\n",
      "|{5b4aa4ead3089013...|http://www.amazon...|Dean R Koontz|{{1212192000000}}|Odd Thomas, who c...|{null, 27}|{{1213488000000}}|   Bantam| {3}|           {1}|ODD HOURS|          {2}|\n",
      "|{5b4aa4ead3089013...|http://www.amazon...|Dean R Koontz|{{1212796800000}}|Odd Thomas, who c...|{null, 27}|{{1214092800000}}|   Bantam| {7}|           {3}|ODD HOURS|          {3}|\n",
      "|{5b4aa4ead3089013...|http://www.amazon...|Dean R Koontz|{{1213401600000}}|Odd Thomas, who c...|{null, 27}|{{1214697600000}}|   Bantam| {8}|           {7}|ODD HOURS|          {4}|\n",
      "|{5b4aa4ead3089013...|http://www.amazon...|Dean R Koontz|{{1214006400000}}|Odd Thomas, who c...|{null, 27}|{{1215302400000}}|   Bantam|{12}|           {8}|ODD HOURS|          {5}|\n",
      "+--------------------+--------------------+-------------+-----------------+--------------------+----------+-----------------+---------+----+--------------+---------+-------------+\n",
      "only showing top 5 rows\n",
      "\n"
     ]
    }
   ],
   "source": [
    "df[df.title.isin(\"ODD HOURS\")].show(5)"
   ]
  },
  {
   "cell_type": "code",
   "execution_count": 25,
   "id": "b7d4424c",
   "metadata": {},
   "outputs": [
    {
     "name": "stdout",
     "output_type": "stream",
     "text": [
      "+-----------------+--------------------+----------------------+\n",
      "|           author|               title|startswith(title, THE)|\n",
      "+-----------------+--------------------+----------------------+\n",
      "|    Dean R Koontz|           ODD HOURS|                 false|\n",
      "|  Stephenie Meyer|            THE HOST|                  true|\n",
      "|     Emily Giffin|LOVE THE ONE YOU'...|                 false|\n",
      "|Patricia Cornwell|           THE FRONT|                  true|\n",
      "|  Chuck Palahniuk|               SNUFF|                 false|\n",
      "+-----------------+--------------------+----------------------+\n",
      "only showing top 5 rows\n",
      "\n"
     ]
    }
   ],
   "source": [
    "df.select(\"author\", \"title\",df.title.startswith(\"THE\")).show(5)"
   ]
  },
  {
   "cell_type": "code",
   "execution_count": 27,
   "id": "435f84e7",
   "metadata": {},
   "outputs": [
    {
     "name": "stdout",
     "output_type": "stream",
     "text": [
      "+-----------------+--------------------+------------------+\n",
      "|           author|               title|title LIKE % ONE %|\n",
      "+-----------------+--------------------+------------------+\n",
      "|    Dean R Koontz|           ODD HOURS|             false|\n",
      "|  Stephenie Meyer|            THE HOST|             false|\n",
      "|     Emily Giffin|LOVE THE ONE YOU'...|              true|\n",
      "|Patricia Cornwell|           THE FRONT|             false|\n",
      "|  Chuck Palahniuk|               SNUFF|             false|\n",
      "+-----------------+--------------------+------------------+\n",
      "only showing top 5 rows\n",
      "\n"
     ]
    }
   ],
   "source": [
    "df.select(\"author\", \"title\",df.title.like(\"% ONE %\")).show(5)\n"
   ]
  },
  {
   "cell_type": "code",
   "execution_count": 28,
   "id": "13dd1441",
   "metadata": {},
   "outputs": [],
   "source": [
    "df = df.withColumnRenamed(\"title\", \"TITLE\")"
   ]
  },
  {
   "cell_type": "code",
   "execution_count": 29,
   "id": "44bf1bfb",
   "metadata": {},
   "outputs": [],
   "source": [
    "df_rem = df.drop(\"published_date\")"
   ]
  },
  {
   "cell_type": "code",
   "execution_count": 30,
   "id": "80d27bc6",
   "metadata": {},
   "outputs": [
    {
     "name": "stdout",
     "output_type": "stream",
     "text": [
      "+--------------------+--------------------+-----------------+-----------------+--------------------+-------------+-------------+----+--------------+--------------------+-------------+\n",
      "|                 _id|  amazon_product_url|           author| bestsellers_date|         description|        price|    publisher|rank|rank_last_week|               TITLE|weeks_on_list|\n",
      "+--------------------+--------------------+-----------------+-----------------+--------------------+-------------+-------------+----+--------------+--------------------+-------------+\n",
      "|{5b4aa4ead3089013...|http://www.amazon...|    Dean R Koontz|{{1211587200000}}|Odd Thomas, who c...|   {null, 27}|       Bantam| {1}|           {0}|           ODD HOURS|          {1}|\n",
      "|{5b4aa4ead3089013...|http://www.amazon...|  Stephenie Meyer|{{1211587200000}}|Aliens have taken...|{25.99, null}|Little, Brown| {2}|           {1}|            THE HOST|          {3}|\n",
      "|{5b4aa4ead3089013...|http://www.amazon...|     Emily Giffin|{{1211587200000}}|A woman's happy m...|{24.95, null}| St. Martin's| {3}|           {2}|LOVE THE ONE YOU'...|          {2}|\n",
      "|{5b4aa4ead3089013...|http://www.amazon...|Patricia Cornwell|{{1211587200000}}|A Massachusetts s...|{22.95, null}|       Putnam| {4}|           {0}|           THE FRONT|          {1}|\n",
      "+--------------------+--------------------+-----------------+-----------------+--------------------+-------------+-------------+----+--------------+--------------------+-------------+\n",
      "only showing top 4 rows\n",
      "\n"
     ]
    }
   ],
   "source": [
    "df_rem.show(4)"
   ]
  },
  {
   "cell_type": "code",
   "execution_count": 33,
   "id": "102e1240",
   "metadata": {},
   "outputs": [
    {
     "name": "stdout",
     "output_type": "stream",
     "text": [
      "+--------------------+-----+\n",
      "|              author|count|\n",
      "+--------------------+-----+\n",
      "|          James Frey|    2|\n",
      "|    Elin Hilderbrand|   58|\n",
      "|   Sharon Kay Penman|    2|\n",
      "|         Lisa Genova|    7|\n",
      "|        Will Allison|    1|\n",
      "|   Patricia Cornwell|   64|\n",
      "|       Laurie R King|    6|\n",
      "|          Tea Obreht|    6|\n",
      "|        Sarah Dunant|    1|\n",
      "|        Tim Johnston|    1|\n",
      "|          Sara Gruen|   13|\n",
      "|Tom Clancy with P...|    9|\n",
      "|         Andre Dubus|    1|\n",
      "|        Terry Brooks|   19|\n",
      "|        Daniel Silva|   69|\n",
      "|      Jackie Collins|   14|\n",
      "|          Pat Conroy|   11|\n",
      "|          Ann B Ross|    5|\n",
      "|      Michael Savage|    3|\n",
      "|David Weber and E...|    1|\n",
      "+--------------------+-----+\n",
      "only showing top 20 rows\n",
      "\n"
     ]
    }
   ],
   "source": [
    "df.groupby(\"author\").count().show()"
   ]
  },
  {
   "cell_type": "code",
   "execution_count": 36,
   "id": "21558e50",
   "metadata": {},
   "outputs": [
    {
     "name": "stdout",
     "output_type": "stream",
     "text": [
      "+--------------------+--------------------+-------------+-----------------+--------------------+----------+-----------------+---------+----+--------------+---------+-------------+\n",
      "|                 _id|  amazon_product_url|       author| bestsellers_date|         description|     price|   published_date|publisher|rank|rank_last_week|    TITLE|weeks_on_list|\n",
      "+--------------------+--------------------+-------------+-----------------+--------------------+----------+-----------------+---------+----+--------------+---------+-------------+\n",
      "|{5b4aa4ead3089013...|http://www.amazon...|Dean R Koontz|{{1211587200000}}|Odd Thomas, who c...|{null, 27}|{{1212883200000}}|   Bantam| {1}|           {0}|ODD HOURS|          {1}|\n",
      "|{5b4aa4ead3089013...|http://www.amazon...|Dean R Koontz|{{1212192000000}}|Odd Thomas, who c...|{null, 27}|{{1213488000000}}|   Bantam| {3}|           {1}|ODD HOURS|          {2}|\n",
      "|{5b4aa4ead3089013...|http://www.amazon...|Dean R Koontz|{{1212796800000}}|Odd Thomas, who c...|{null, 27}|{{1214092800000}}|   Bantam| {7}|           {3}|ODD HOURS|          {3}|\n",
      "|{5b4aa4ead3089013...|http://www.amazon...|Dean R Koontz|{{1213401600000}}|Odd Thomas, who c...|{null, 27}|{{1214697600000}}|   Bantam| {8}|           {7}|ODD HOURS|          {4}|\n",
      "+--------------------+--------------------+-------------+-----------------+--------------------+----------+-----------------+---------+----+--------------+---------+-------------+\n",
      "only showing top 4 rows\n",
      "\n"
     ]
    }
   ],
   "source": [
    "df.filter(df[\"title\"]== \"ODD HOURS\").show(4)"
   ]
  },
  {
   "cell_type": "code",
   "execution_count": 37,
   "id": "f842fb32",
   "metadata": {},
   "outputs": [
    {
     "name": "stderr",
     "output_type": "stream",
     "text": [
      "C:\\Users\\HP\\anaconda3\\lib\\site-packages\\pyspark\\sql\\dataframe.py:229: FutureWarning: Deprecated in 2.0, use createOrReplaceTempView instead.\n",
      "  warnings.warn(\"Deprecated in 2.0, use createOrReplaceTempView instead.\", FutureWarning)\n"
     ]
    }
   ],
   "source": [
    "df.registerTempTable(\"df3\")"
   ]
  },
  {
   "cell_type": "code",
   "execution_count": 39,
   "id": "025e89be",
   "metadata": {},
   "outputs": [
    {
     "name": "stdout",
     "output_type": "stream",
     "text": [
      "+--------------------+--------------------+-------------+-----------------+--------------------+----------+-----------------+---------+----+--------------+---------+-------------+\n",
      "|                 _id|  amazon_product_url|       author| bestsellers_date|         description|     price|   published_date|publisher|rank|rank_last_week|    TITLE|weeks_on_list|\n",
      "+--------------------+--------------------+-------------+-----------------+--------------------+----------+-----------------+---------+----+--------------+---------+-------------+\n",
      "|{5b4aa4ead3089013...|http://www.amazon...|Dean R Koontz|{{1211587200000}}|Odd Thomas, who c...|{null, 27}|{{1212883200000}}|   Bantam| {1}|           {0}|ODD HOURS|          {1}|\n",
      "|{5b4aa4ead3089013...|http://www.amazon...|Dean R Koontz|{{1212192000000}}|Odd Thomas, who c...|{null, 27}|{{1213488000000}}|   Bantam| {3}|           {1}|ODD HOURS|          {2}|\n",
      "|{5b4aa4ead3089013...|http://www.amazon...|Dean R Koontz|{{1212796800000}}|Odd Thomas, who c...|{null, 27}|{{1214092800000}}|   Bantam| {7}|           {3}|ODD HOURS|          {3}|\n",
      "+--------------------+--------------------+-------------+-----------------+--------------------+----------+-----------------+---------+----+--------------+---------+-------------+\n",
      "only showing top 3 rows\n",
      "\n"
     ]
    }
   ],
   "source": [
    "sc.sql(\"select * from df3 where title = 'ODD HOURS'\").show(3)"
   ]
  },
  {
   "cell_type": "code",
   "execution_count": null,
   "id": "ed205585",
   "metadata": {},
   "outputs": [],
   "source": []
  }
 ],
 "metadata": {
  "kernelspec": {
   "display_name": "Python 3 (ipykernel)",
   "language": "python",
   "name": "python3"
  },
  "language_info": {
   "codemirror_mode": {
    "name": "ipython",
    "version": 3
   },
   "file_extension": ".py",
   "mimetype": "text/x-python",
   "name": "python",
   "nbconvert_exporter": "python",
   "pygments_lexer": "ipython3",
   "version": "3.9.12"
  }
 },
 "nbformat": 4,
 "nbformat_minor": 5
}
